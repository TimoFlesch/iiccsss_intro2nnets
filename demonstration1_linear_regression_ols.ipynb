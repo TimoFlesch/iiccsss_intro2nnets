{
 "cells": [
  {
   "cell_type": "markdown",
   "metadata": {
    "colab_type": "text",
    "id": "e_DNb8-JiNNu"
   },
   "source": [
    "# Demonstration 1: Simple Linear Regression in Python\n"
   ]
  },
  {
   "cell_type": "markdown",
   "metadata": {
    "colab_type": "text",
    "id": "zg6N-o-ELtd0"
   },
   "source": [
    "**1. Import Modules**  \n",
    "The first step is always to import all the necessary libraries.  \n",
    "We need a library for matrix computation and a library to make fancy graphs"
   ]
  },
  {
   "cell_type": "code",
   "execution_count": 1,
   "metadata": {
    "colab": {
     "autoexec": {
      "startup": false,
      "wait_interval": 0
     }
    },
    "colab_type": "code",
    "id": "dru0zFeuLROs"
   },
   "outputs": [],
   "source": [
    "import numpy as np\n",
    "import matplotlib.pyplot as plt"
   ]
  },
  {
   "cell_type": "markdown",
   "metadata": {
    "colab_type": "text",
    "id": "5Ea_XRnDL7i0"
   },
   "source": [
    "**2.  Define helper functions**  \n",
    "As good programmers, we like modularised code!  \n",
    "This means that we write little functions for each subtask of the regression problem :)"
   ]
  },
  {
   "cell_type": "code",
   "execution_count": 7,
   "metadata": {
    "colab": {
     "autoexec": {
      "startup": false,
      "wait_interval": 0
     }
    },
    "colab_type": "code",
    "id": "ChUjDzmfMIUE"
   },
   "outputs": [],
   "source": [
    "def generateData(thetas,x,sigma):\n",
    "  # generate some data by adding gaussian noise (sigma) to a \n",
    "  # linear function of x, parametrised by theta  \n",
    "  return linearFunction(x,thetas)+(sigma*np.random.randn(x.shape[0])+0)\n",
    "\n",
    "  \n",
    "def linearFunction(x,thetas):\n",
    "  # defines a simple linear function - the line we're going to fit    \n",
    "  return thetas[0] + thetas[1]*x\n",
    "  \n"
   ]
  },
  {
   "cell_type": "markdown",
   "metadata": {
    "colab_type": "text",
    "id": "COGCrVeYN8G4"
   },
   "source": [
    "**3. Generate and visualise some toy data**  \n",
    "Let's first generate some toy data and display it as scatter plot!"
   ]
  },
  {
   "cell_type": "code",
   "execution_count": 4,
   "metadata": {
    "colab": {
     "autoexec": {
      "startup": false,
      "wait_interval": 0
     },
     "base_uri": "https://localhost:8080/",
     "height": 362
    },
    "colab_type": "code",
    "executionInfo": {
     "elapsed": 526,
     "status": "ok",
     "timestamp": 1529336778365,
     "user": {
      "displayName": "Timo Flesch",
      "photoUrl": "https://lh3.googleusercontent.com/a/default-user=s128",
      "userId": "116190180478922895193"
     },
     "user_tz": -60
    },
    "id": "O7lOoIZnPRzE",
    "outputId": "78305ee1-792b-48cf-fb12-dd71998d672e"
   },
   "outputs": [
    {
     "data": {
      "image/png": "[encoded data removed]",
      "text/plain": [
       "<Figure size 432x288 with 1 Axes>"
      ]
     },
     "metadata": {},
     "output_type": "display_data"
    }
   ],
   "source": [
    "# define parameters\n",
    "xRange   = [-4,6]\n",
    "noiseVar = 5\n",
    "thetas   = [3,2.5]\n",
    "\n",
    "# generate data\n",
    "x      = np.linspace(xRange[0],xRange[1],100)\n",
    "y      = linearFunction(x,thetas)\n",
    "yNoisy = generateData(thetas,x,noiseVar)\n",
    "\n",
    "# display data\n",
    "plt.plot(x,y,'--',color='red')\n",
    "plt.plot(x,yNoisy,'o',color='red')  \n",
    "plt.xlabel = 'x'\n",
    "plt.ylabel = 'y'\n",
    "plt.title('raw data for y=' + str(thetas[0]) +'+ x*' + str(thetas[1]))\n",
    "plt.show()\n"
   ]
  },
  {
   "cell_type": "markdown",
   "metadata": {
    "colab_type": "text",
    "id": "fseXAylQZ8_G"
   },
   "source": [
    "**4. Compute the simple least squares solution**  \n",
    "First we'll compute the ols solutions as outlined in the slides.  \n",
    "Remember that we just need to compute the mean, covariance and variance"
   ]
  },
  {
   "cell_type": "code",
   "execution_count": 5,
   "metadata": {
    "colab": {
     "autoexec": {
      "startup": false,
      "wait_interval": 0
     },
     "base_uri": "https://localhost:8080/",
     "height": 381
    },
    "colab_type": "code",
    "executionInfo": {
     "elapsed": 547,
     "status": "ok",
     "timestamp": 1529336778965,
     "user": {
      "displayName": "Timo Flesch",
      "photoUrl": "https://lh3.googleusercontent.com/a/default-user=s128",
      "userId": "116190180478922895193"
     },
     "user_tz": -60
    },
    "id": "A5HTMDqQeBuW",
    "outputId": "7265b4f5-c005-4413-f3f8-0571137cf1e9"
   },
   "outputs": [
    {
     "name": "stdout",
     "output_type": "stream",
     "text": [
      "true thetas: [3, 2.5]\n",
      "theta hats: [2.85037936 2.70498185]\n"
     ]
    },
    {
     "data": {
      "image/png": "[encoded data removed]",
      "text/plain": [
       "<Figure size 432x288 with 1 Axes>"
      ]
     },
     "metadata": {},
     "output_type": "display_data"
    }
   ],
   "source": [
    "def computeThetaHats(x,y):\n",
    "  # computes the slope and intercept based on the mean, covariance \n",
    "  # and variance terms\n",
    "  thetaHat = np.empty(2)\n",
    "  # 1. slope\n",
    "  thetaHat[1] = np.cov(x,y)[0,1]/np.var(x)\n",
    "  # 2. intercept\n",
    "  thetaHat[0] = np.mean(y) - thetaHat[1]*np.mean(x)\n",
    "  return thetaHat\n",
    "\n",
    "\n",
    "\n",
    "# let's fit a line and print estimated parameters:\n",
    "thetaHats = computeThetaHats(x,yNoisy)\n",
    "yHat = linearFunction(x,thetaHats)\n",
    "\n",
    "print('true thetas: ' + str(thetas))\n",
    "print('theta hats: ' + str(thetaHats))\n",
    "\n",
    "# plot the results:\n",
    "plt.plot(x,y,'--',color='red')\n",
    "plt.plot(x,yNoisy,'o',color='red')  \n",
    "plt.plot(x,yHat,'-',color='blue')\n",
    "plt.xlabel = 'x'\n",
    "plt.ylabel = 'y'\n",
    "plt.show()"
   ]
  },
  {
   "cell_type": "markdown",
   "metadata": {
    "colab_type": "text",
    "id": "Kifrh5W3fRIY"
   },
   "source": [
    "**5. OLS solution**  \n",
    "Now we generalise our solution into a matrix form that allows us to compute results for multivariable regression!  \n",
    "Remember: we just need to include a constant column to move the intercept inside the formula and solve for theta using the Moore-Penrose Pseudoinverse!"
   ]
  },
  {
   "cell_type": "code",
   "execution_count": 8,
   "metadata": {
    "colab": {
     "autoexec": {
      "startup": false,
      "wait_interval": 0
     },
     "base_uri": "https://localhost:8080/",
     "height": 381
    },
    "colab_type": "code",
    "executionInfo": {
     "elapsed": 538,
     "status": "ok",
     "timestamp": 1529336779574,
     "user": {
      "displayName": "Timo Flesch",
      "photoUrl": "https://lh3.googleusercontent.com/a/default-user=s128",
      "userId": "116190180478922895193"
     },
     "user_tz": -60
    },
    "id": "mqJBQgAEfoXK",
    "outputId": "0ae1a137-638d-4643-ac1a-b86a6cf82fdc"
   },
   "outputs": [
    {
     "name": "stdout",
     "output_type": "stream",
     "text": [
      "true thetas: [3, 2.5]\n",
      "theta hats: [2.87742917 2.67793203]\n"
     ]
    },
    {
     "data": {
      "image/png": "[encoded data removed]",
      "text/plain": [
       "<Figure size 432x288 with 1 Axes>"
      ]
     },
     "metadata": {},
     "output_type": "display_data"
    }
   ],
   "source": [
    "def computeOLSsolution(X,y):\n",
    "  # computes the OLS solution for all thetas using matrix algebra\n",
    "  return np.dot(np.linalg.inv(np.dot(X.T,X)),np.dot(X.T,y))\n",
    "\n",
    "# set up the design matrix (add column of ones)\n",
    "intercept = np.ones((len(x),1))\n",
    "X = np.concatenate((intercept,np.expand_dims(x,axis=1)),axis=1)\n",
    "\n",
    "# obtain thetaHats:\n",
    "thetaHats = computeOLSsolution(X,yNoisy)\n",
    "print('true thetas: ' + str(thetas))\n",
    "print('theta hats: ' + str(thetaHats))\n",
    "\n",
    "# display results\n",
    "plt.plot(x,y,'--',color='red')\n",
    "plt.plot(x,yNoisy,'o',color='red')  \n",
    "plt.plot(x,yHat,'-',color='green')\n",
    "plt.xlabel = 'x'\n",
    "plt.ylabel = 'y'\n",
    "plt.show()"
   ]
  },
  {
   "cell_type": "code",
   "execution_count": 0,
   "metadata": {
    "colab": {
     "autoexec": {
      "startup": false,
      "wait_interval": 0
     }
    },
    "colab_type": "code",
    "id": "Ty2laScxk02-"
   },
   "outputs": [],
   "source": []
  }
 ],
 "metadata": {
  "colab": {
   "collapsed_sections": [],
   "default_view": {},
   "name": "demonstration1_linear_regression_ols.ipynb",
   "provenance": [],
   "version": "0.3.2",
   "views": {}
  },
  "kernelspec": {
   "display_name": "Python 3",
   "language": "python",
   "name": "python3"
  },
  "language_info": {
   "codemirror_mode": {
    "name": "ipython",
    "version": 3
   },
   "file_extension": ".py",
   "mimetype": "text/x-python",
   "name": "python",
   "nbconvert_exporter": "python",
   "pygments_lexer": "ipython3",
   "version": "3.6.5"
  }
 },
 "nbformat": 4,
 "nbformat_minor": 1
}
